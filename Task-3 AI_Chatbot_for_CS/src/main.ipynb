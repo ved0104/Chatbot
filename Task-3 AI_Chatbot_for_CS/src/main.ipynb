{
 "cells": [
  {
   "cell_type": "code",
   "execution_count": 22,
   "metadata": {},
   "outputs": [
    {
     "name": "stdout",
     "output_type": "stream",
     "text": [
      "Requirement already satisfied: rank-bm25 in c:\\users\\dubey\\anaconda3\\lib\\site-packages (0.2.2)\n",
      "Requirement already satisfied: faiss-cpu in c:\\users\\dubey\\anaconda3\\lib\\site-packages (1.10.0)\n",
      "Requirement already satisfied: sentence-transformers in c:\\users\\dubey\\anaconda3\\lib\\site-packages (4.0.1)\n",
      "Requirement already satisfied: transformers in c:\\users\\dubey\\anaconda3\\lib\\site-packages (4.50.3)\n",
      "Requirement already satisfied: arxiv in c:\\users\\dubey\\anaconda3\\lib\\site-packages (2.1.3)\n",
      "Requirement already satisfied: spacy in c:\\users\\dubey\\anaconda3\\lib\\site-packages (3.8.4)\n",
      "Requirement already satisfied: nltk in c:\\users\\dubey\\anaconda3\\lib\\site-packages (3.8.1)\n",
      "Requirement already satisfied: numpy in c:\\users\\dubey\\anaconda3\\lib\\site-packages (from rank-bm25) (1.26.4)\n",
      "Requirement already satisfied: packaging in c:\\users\\dubey\\anaconda3\\lib\\site-packages (from faiss-cpu) (23.2)\n",
      "Requirement already satisfied: tqdm in c:\\users\\dubey\\anaconda3\\lib\\site-packages (from sentence-transformers) (4.66.4)\n",
      "Requirement already satisfied: torch>=1.11.0 in c:\\users\\dubey\\anaconda3\\lib\\site-packages (from sentence-transformers) (2.6.0)\n",
      "Requirement already satisfied: scikit-learn in c:\\users\\dubey\\anaconda3\\lib\\site-packages (from sentence-transformers) (1.4.2)\n",
      "Requirement already satisfied: scipy in c:\\users\\dubey\\anaconda3\\lib\\site-packages (from sentence-transformers) (1.13.1)\n",
      "Requirement already satisfied: huggingface-hub>=0.20.0 in c:\\users\\dubey\\anaconda3\\lib\\site-packages (from sentence-transformers) (0.29.3)\n",
      "Requirement already satisfied: Pillow in c:\\users\\dubey\\anaconda3\\lib\\site-packages (from sentence-transformers) (10.3.0)\n",
      "Requirement already satisfied: typing_extensions>=4.5.0 in c:\\users\\dubey\\anaconda3\\lib\\site-packages (from sentence-transformers) (4.12.2)\n",
      "Requirement already satisfied: filelock in c:\\users\\dubey\\anaconda3\\lib\\site-packages (from transformers) (3.13.1)\n",
      "Requirement already satisfied: pyyaml>=5.1 in c:\\users\\dubey\\anaconda3\\lib\\site-packages (from transformers) (6.0.1)\n",
      "Requirement already satisfied: regex!=2019.12.17 in c:\\users\\dubey\\anaconda3\\lib\\site-packages (from transformers) (2023.10.3)\n",
      "Requirement already satisfied: requests in c:\\users\\dubey\\anaconda3\\lib\\site-packages (from transformers) (2.32.2)\n",
      "Requirement already satisfied: tokenizers<0.22,>=0.21 in c:\\users\\dubey\\anaconda3\\lib\\site-packages (from transformers) (0.21.1)\n",
      "Requirement already satisfied: safetensors>=0.4.3 in c:\\users\\dubey\\anaconda3\\lib\\site-packages (from transformers) (0.5.3)\n",
      "Requirement already satisfied: feedparser~=6.0.10 in c:\\users\\dubey\\anaconda3\\lib\\site-packages (from arxiv) (6.0.11)\n",
      "Requirement already satisfied: spacy-legacy<3.1.0,>=3.0.11 in c:\\users\\dubey\\anaconda3\\lib\\site-packages (from spacy) (3.0.12)\n",
      "Requirement already satisfied: spacy-loggers<2.0.0,>=1.0.0 in c:\\users\\dubey\\anaconda3\\lib\\site-packages (from spacy) (1.0.5)\n",
      "Requirement already satisfied: murmurhash<1.1.0,>=0.28.0 in c:\\users\\dubey\\anaconda3\\lib\\site-packages (from spacy) (1.0.12)\n",
      "Requirement already satisfied: cymem<2.1.0,>=2.0.2 in c:\\users\\dubey\\anaconda3\\lib\\site-packages (from spacy) (2.0.11)\n",
      "Requirement already satisfied: preshed<3.1.0,>=3.0.2 in c:\\users\\dubey\\anaconda3\\lib\\site-packages (from spacy) (3.0.9)\n",
      "Requirement already satisfied: thinc<8.4.0,>=8.3.4 in c:\\users\\dubey\\anaconda3\\lib\\site-packages (from spacy) (8.3.4)\n",
      "Requirement already satisfied: wasabi<1.2.0,>=0.9.1 in c:\\users\\dubey\\anaconda3\\lib\\site-packages (from spacy) (1.1.3)\n",
      "Requirement already satisfied: srsly<3.0.0,>=2.4.3 in c:\\users\\dubey\\anaconda3\\lib\\site-packages (from spacy) (2.5.1)\n",
      "Requirement already satisfied: catalogue<2.1.0,>=2.0.6 in c:\\users\\dubey\\anaconda3\\lib\\site-packages (from spacy) (2.0.10)\n",
      "Requirement already satisfied: weasel<0.5.0,>=0.1.0 in c:\\users\\dubey\\anaconda3\\lib\\site-packages (from spacy) (0.4.1)\n",
      "Requirement already satisfied: typer<1.0.0,>=0.3.0 in c:\\users\\dubey\\anaconda3\\lib\\site-packages (from spacy) (0.9.0)\n",
      "Requirement already satisfied: pydantic!=1.8,!=1.8.1,<3.0.0,>=1.7.4 in c:\\users\\dubey\\anaconda3\\lib\\site-packages (from spacy) (2.10.3)\n",
      "Requirement already satisfied: jinja2 in c:\\users\\dubey\\anaconda3\\lib\\site-packages (from spacy) (3.1.4)\n",
      "Requirement already satisfied: setuptools in c:\\users\\dubey\\anaconda3\\lib\\site-packages (from spacy) (69.5.1)\n",
      "Requirement already satisfied: langcodes<4.0.0,>=3.2.0 in c:\\users\\dubey\\anaconda3\\lib\\site-packages (from spacy) (3.5.0)\n",
      "Requirement already satisfied: click in c:\\users\\dubey\\anaconda3\\lib\\site-packages (from nltk) (8.1.7)\n",
      "Requirement already satisfied: joblib in c:\\users\\dubey\\anaconda3\\lib\\site-packages (from nltk) (1.4.2)\n",
      "Requirement already satisfied: sgmllib3k in c:\\users\\dubey\\anaconda3\\lib\\site-packages (from feedparser~=6.0.10->arxiv) (1.0.0)\n",
      "Requirement already satisfied: fsspec>=2023.5.0 in c:\\users\\dubey\\anaconda3\\lib\\site-packages (from huggingface-hub>=0.20.0->sentence-transformers) (2024.3.1)\n",
      "Requirement already satisfied: language-data>=1.2 in c:\\users\\dubey\\anaconda3\\lib\\site-packages (from langcodes<4.0.0,>=3.2.0->spacy) (1.3.0)\n",
      "Requirement already satisfied: annotated-types>=0.6.0 in c:\\users\\dubey\\anaconda3\\lib\\site-packages (from pydantic!=1.8,!=1.8.1,<3.0.0,>=1.7.4->spacy) (0.6.0)\n",
      "Requirement already satisfied: pydantic-core==2.27.1 in c:\\users\\dubey\\anaconda3\\lib\\site-packages (from pydantic!=1.8,!=1.8.1,<3.0.0,>=1.7.4->spacy) (2.27.1)\n",
      "Requirement already satisfied: charset-normalizer<4,>=2 in c:\\users\\dubey\\anaconda3\\lib\\site-packages (from requests->transformers) (2.0.4)\n",
      "Requirement already satisfied: idna<4,>=2.5 in c:\\users\\dubey\\anaconda3\\lib\\site-packages (from requests->transformers) (3.7)\n",
      "Requirement already satisfied: urllib3<3,>=1.21.1 in c:\\users\\dubey\\anaconda3\\lib\\site-packages (from requests->transformers) (2.2.2)\n",
      "Requirement already satisfied: certifi>=2017.4.17 in c:\\users\\dubey\\anaconda3\\lib\\site-packages (from requests->transformers) (2024.12.14)\n",
      "Requirement already satisfied: blis<1.3.0,>=1.2.0 in c:\\users\\dubey\\anaconda3\\lib\\site-packages (from thinc<8.4.0,>=8.3.4->spacy) (1.2.0)\n",
      "Requirement already satisfied: confection<1.0.0,>=0.0.1 in c:\\users\\dubey\\anaconda3\\lib\\site-packages (from thinc<8.4.0,>=8.3.4->spacy) (0.1.5)\n",
      "Requirement already satisfied: networkx in c:\\users\\dubey\\anaconda3\\lib\\site-packages (from torch>=1.11.0->sentence-transformers) (3.2.1)\n",
      "Requirement already satisfied: sympy==1.13.1 in c:\\users\\dubey\\anaconda3\\lib\\site-packages (from torch>=1.11.0->sentence-transformers) (1.13.1)\n",
      "Requirement already satisfied: mpmath<1.4,>=1.1.0 in c:\\users\\dubey\\anaconda3\\lib\\site-packages (from sympy==1.13.1->torch>=1.11.0->sentence-transformers) (1.3.0)\n",
      "Requirement already satisfied: colorama in c:\\users\\dubey\\anaconda3\\lib\\site-packages (from tqdm->sentence-transformers) (0.4.6)\n",
      "Requirement already satisfied: cloudpathlib<1.0.0,>=0.7.0 in c:\\users\\dubey\\anaconda3\\lib\\site-packages (from weasel<0.5.0,>=0.1.0->spacy) (0.21.0)\n",
      "Requirement already satisfied: smart-open<8.0.0,>=5.2.1 in c:\\users\\dubey\\anaconda3\\lib\\site-packages (from weasel<0.5.0,>=0.1.0->spacy) (5.2.1)\n",
      "Requirement already satisfied: MarkupSafe>=2.0 in c:\\users\\dubey\\anaconda3\\lib\\site-packages (from jinja2->spacy) (2.1.3)\n",
      "Requirement already satisfied: threadpoolctl>=2.0.0 in c:\\users\\dubey\\anaconda3\\lib\\site-packages (from scikit-learn->sentence-transformers) (2.2.0)\n",
      "Requirement already satisfied: marisa-trie>=1.1.0 in c:\\users\\dubey\\anaconda3\\lib\\site-packages (from language-data>=1.2->langcodes<4.0.0,>=3.2.0->spacy) (1.2.1)\n",
      "Collecting en-core-web-sm==3.8.0\n",
      "  Downloading https://github.com/explosion/spacy-models/releases/download/en_core_web_sm-3.8.0/en_core_web_sm-3.8.0-py3-none-any.whl (12.8 MB)\n",
      "     ---------------------------------------- 0.0/12.8 MB ? eta -:--:--\n",
      "     --------------------------------------- 0.0/12.8 MB 660.6 kB/s eta 0:00:20\n",
      "     ---------------------------------------- 0.1/12.8 MB 1.1 MB/s eta 0:00:12\n",
      "      --------------------------------------- 0.2/12.8 MB 1.2 MB/s eta 0:00:11\n",
      "      --------------------------------------- 0.3/12.8 MB 1.6 MB/s eta 0:00:09\n",
      "     - -------------------------------------- 0.4/12.8 MB 2.0 MB/s eta 0:00:07\n",
      "     -- ------------------------------------- 0.7/12.8 MB 2.6 MB/s eta 0:00:05\n",
      "     --- ------------------------------------ 1.0/12.8 MB 2.9 MB/s eta 0:00:05\n",
      "     --- ------------------------------------ 1.2/12.8 MB 3.2 MB/s eta 0:00:04\n",
      "     ---- ----------------------------------- 1.4/12.8 MB 3.4 MB/s eta 0:00:04\n",
      "     ----- ---------------------------------- 1.6/12.8 MB 3.6 MB/s eta 0:00:04\n",
      "     ----- ---------------------------------- 1.9/12.8 MB 3.7 MB/s eta 0:00:03\n",
      "     ------ --------------------------------- 2.1/12.8 MB 3.8 MB/s eta 0:00:03\n",
      "     ------- -------------------------------- 2.4/12.8 MB 4.0 MB/s eta 0:00:03\n",
      "     -------- ------------------------------- 2.7/12.8 MB 4.0 MB/s eta 0:00:03\n",
      "     --------- ------------------------------ 3.0/12.8 MB 4.2 MB/s eta 0:00:03\n",
      "     ---------- ----------------------------- 3.3/12.8 MB 4.4 MB/s eta 0:00:03\n",
      "     ----------- ---------------------------- 3.6/12.8 MB 4.5 MB/s eta 0:00:03\n",
      "     ------------ --------------------------- 3.9/12.8 MB 4.6 MB/s eta 0:00:02\n",
      "     ------------ --------------------------- 4.1/12.8 MB 4.7 MB/s eta 0:00:02\n",
      "     ------------- -------------------------- 4.4/12.8 MB 4.8 MB/s eta 0:00:02\n",
      "     -------------- ------------------------- 4.7/12.8 MB 4.8 MB/s eta 0:00:02\n",
      "     --------------- ------------------------ 5.1/12.8 MB 4.9 MB/s eta 0:00:02\n",
      "     ---------------- ----------------------- 5.3/12.8 MB 4.9 MB/s eta 0:00:02\n",
      "     ----------------- ---------------------- 5.6/12.8 MB 5.0 MB/s eta 0:00:02\n",
      "     ------------------ --------------------- 5.9/12.8 MB 5.1 MB/s eta 0:00:02\n",
      "     ------------------- -------------------- 6.2/12.8 MB 5.1 MB/s eta 0:00:02\n",
      "     -------------------- ------------------- 6.5/12.8 MB 5.2 MB/s eta 0:00:02\n",
      "     --------------------- ------------------ 6.9/12.8 MB 5.2 MB/s eta 0:00:02\n",
      "     ---------------------- ----------------- 7.1/12.8 MB 5.2 MB/s eta 0:00:02\n",
      "     ----------------------- ---------------- 7.4/12.8 MB 5.3 MB/s eta 0:00:02\n",
      "     ------------------------ --------------- 7.7/12.8 MB 5.3 MB/s eta 0:00:01\n",
      "     ------------------------- -------------- 8.0/12.8 MB 5.3 MB/s eta 0:00:01\n",
      "     ------------------------- -------------- 8.3/12.8 MB 5.4 MB/s eta 0:00:01\n",
      "     -------------------------- ------------- 8.6/12.8 MB 5.4 MB/s eta 0:00:01\n",
      "     --------------------------- ------------ 8.9/12.8 MB 5.4 MB/s eta 0:00:01\n",
      "     ---------------------------- ----------- 9.1/12.8 MB 5.5 MB/s eta 0:00:01\n",
      "     ----------------------------- ---------- 9.3/12.8 MB 5.4 MB/s eta 0:00:01\n",
      "     ------------------------------ --------- 9.6/12.8 MB 5.4 MB/s eta 0:00:01\n",
      "     ------------------------------ --------- 9.8/12.8 MB 5.4 MB/s eta 0:00:01\n",
      "     ------------------------------- -------- 10.1/12.8 MB 5.4 MB/s eta 0:00:01\n",
      "     -------------------------------- ------- 10.4/12.8 MB 5.7 MB/s eta 0:00:01\n",
      "     --------------------------------- ------ 10.6/12.8 MB 5.7 MB/s eta 0:00:01\n",
      "     --------------------------------- ------ 10.9/12.8 MB 5.8 MB/s eta 0:00:01\n",
      "     ----------------------------------- ---- 11.2/12.8 MB 5.9 MB/s eta 0:00:01\n",
      "     ----------------------------------- ---- 11.5/12.8 MB 5.9 MB/s eta 0:00:01\n",
      "     ------------------------------------ --- 11.7/12.8 MB 6.0 MB/s eta 0:00:01\n",
      "     ------------------------------------- -- 12.0/12.8 MB 6.0 MB/s eta 0:00:01\n",
      "     -------------------------------------- - 12.2/12.8 MB 6.0 MB/s eta 0:00:01\n",
      "     ---------------------------------------  12.6/12.8 MB 6.0 MB/s eta 0:00:01\n",
      "     ---------------------------------------  12.8/12.8 MB 6.0 MB/s eta 0:00:01\n",
      "     ---------------------------------------- 12.8/12.8 MB 5.9 MB/s eta 0:00:00\n",
      "\u001b[38;5;2m✔ Download and installation successful\u001b[0m\n",
      "You can now load the package via spacy.load('en_core_web_sm')\n"
     ]
    }
   ],
   "source": [
    "!pip install rank-bm25 faiss-cpu sentence-transformers transformers arxiv spacy nltk\n",
    "!python -m spacy download en_core_web_sm"
   ]
  },
  {
   "cell_type": "code",
   "execution_count": 23,
   "metadata": {},
   "outputs": [],
   "source": [
    "import pandas as pd\n",
    "import numpy as np\n",
    "import re\n",
    "import nltk\n",
    "import arxiv\n",
    "import time\n",
    "from tqdm import tqdm\n",
    "from nltk.corpus import stopwords\n",
    "from nltk.stem import WordNetLemmatizer"
   ]
  },
  {
   "cell_type": "code",
   "execution_count": 24,
   "metadata": {},
   "outputs": [
    {
     "name": "stderr",
     "output_type": "stream",
     "text": [
      "[nltk_data] Downloading package punkt to\n",
      "[nltk_data]     C:\\Users\\dubey\\AppData\\Roaming\\nltk_data...\n",
      "[nltk_data]   Unzipping tokenizers\\punkt.zip.\n",
      "[nltk_data] Downloading package wordnet to\n",
      "[nltk_data]     C:\\Users\\dubey\\AppData\\Roaming\\nltk_data...\n",
      "[nltk_data] Downloading package stopwords to\n",
      "[nltk_data]     C:\\Users\\dubey\\AppData\\Roaming\\nltk_data...\n",
      "[nltk_data]   Unzipping corpora\\stopwords.zip.\n"
     ]
    },
    {
     "data": {
      "text/plain": [
       "True"
      ]
     },
     "execution_count": 24,
     "metadata": {},
     "output_type": "execute_result"
    }
   ],
   "source": [
    "nltk.download('punkt', force=True)\n",
    "nltk.download('wordnet', force=True)\n",
    "nltk.download('stopwords', force=True)"
   ]
  },
  {
   "cell_type": "code",
   "execution_count": 25,
   "metadata": {},
   "outputs": [],
   "source": [
    "def fetch_arxiv_cs_papers(total_papers=1000, batch_size=100):\n",
    "    client = arxiv.Client()\n",
    "    all_papers = []\n",
    "    \n",
    "    for start in tqdm(range(0, total_papers, batch_size)):\n",
    "        search = arxiv.Search(\n",
    "            query=\"cat:cs.*\",\n",
    "            max_results=batch_size,\n",
    "            sort_by=arxiv.SortCriterion.SubmittedDate,\n",
    "            sort_order=arxiv.SortOrder.Descending\n",
    "        )\n",
    "        \n",
    "        try:\n",
    "            results = client.results(search)\n",
    "            batch = []\n",
    "            for paper in results:\n",
    "                batch.append({\n",
    "                    \"id\": paper.entry_id.split('/')[-1],\n",
    "                    \"title\": paper.title,\n",
    "                    \"authors\": [a.name for a in paper.authors],\n",
    "                    \"abstract\": paper.summary.replace('\\n', ' '),\n",
    "                    \"published\": paper.published.date(),\n",
    "                    \"categories\": paper.categories,\n",
    "                    \"pdf_url\": paper.pdf_url\n",
    "                })\n",
    "            all_papers.extend(batch)\n",
    "            time.sleep(1.5)\n",
    "        except Exception as e:\n",
    "            print(f\"Error at start={start}: {str(e)}\")\n",
    "            continue\n",
    "    \n",
    "    return pd.DataFrame(all_papers)\n"
   ]
  },
  {
   "cell_type": "code",
   "execution_count": 26,
   "metadata": {},
   "outputs": [],
   "source": [
    "def preprocess_data(df):\n",
    "    # Make sure required resources are downloaded\n",
    "    nltk.download('punkt', force=True)\n",
    "    nltk.download('wordnet', force=True)\n",
    "    nltk.download('stopwords', force=True)\n",
    "    \n",
    "    lemmatizer = WordNetLemmatizer()\n",
    "    stop_words = set(stopwords.words('english'))\n",
    "\n",
    "    def preprocess_text(text):\n",
    "        text = text.lower()\n",
    "        text = re.sub(r'[^a-zA-Z0-9\\s]', '', text)\n",
    "        tokens = nltk.word_tokenize(text)\n",
    "        tokens = [lemmatizer.lemmatize(word) for word in tokens if word not in stop_words]\n",
    "        return ' '.join(tokens)\n",
    "\n",
    "    df['processed_abstract'] = df['abstract'].apply(preprocess_text)\n",
    "    return df"
   ]
  },
  {
   "cell_type": "code",
   "execution_count": 27,
   "metadata": {},
   "outputs": [
    {
     "name": "stderr",
     "output_type": "stream",
     "text": [
      "100%|██████████| 10/10 [00:49<00:00,  4.91s/it]\n",
      "[nltk_data] Downloading package punkt to\n",
      "[nltk_data]     C:\\Users\\dubey\\AppData\\Roaming\\nltk_data...\n",
      "[nltk_data]   Unzipping tokenizers\\punkt.zip.\n",
      "[nltk_data] Downloading package wordnet to\n",
      "[nltk_data]     C:\\Users\\dubey\\AppData\\Roaming\\nltk_data...\n",
      "[nltk_data] Downloading package stopwords to\n",
      "[nltk_data]     C:\\Users\\dubey\\AppData\\Roaming\\nltk_data...\n",
      "[nltk_data]   Unzipping corpora\\stopwords.zip.\n"
     ]
    },
    {
     "name": "stdout",
     "output_type": "stream",
     "text": [
      "Data processing completed!\n"
     ]
    }
   ],
   "source": [
    "# Execute data pipeline\n",
    "if __name__ == '__main__':\n",
    "    # Fetch and save raw data\n",
    "    raw_df = fetch_arxiv_cs_papers(total_papers=1000)\n",
    "    raw_df.to_csv('arxiv_cs_raw.csv', index=False)\n",
    "    \n",
    "    # Preprocess and save cleaned data\n",
    "    cleaned_df = preprocess_data(raw_df)\n",
    "    cleaned_df.to_csv('arxiv_cs_processed.csv', index=False)\n",
    "    print(\"Data processing completed!\")"
   ]
  },
  {
   "cell_type": "code",
   "execution_count": null,
   "metadata": {},
   "outputs": [],
   "source": []
  }
 ],
 "metadata": {
  "kernelspec": {
   "display_name": "base",
   "language": "python",
   "name": "python3"
  },
  "language_info": {
   "codemirror_mode": {
    "name": "ipython",
    "version": 3
   },
   "file_extension": ".py",
   "mimetype": "text/x-python",
   "name": "python",
   "nbconvert_exporter": "python",
   "pygments_lexer": "ipython3",
   "version": "3.12.4"
  }
 },
 "nbformat": 4,
 "nbformat_minor": 2
}
